{
 "cells": [
  {
   "cell_type": "code",
   "execution_count": 31,
   "metadata": {},
   "outputs": [],
   "source": [
    "import pandas as pd\n",
    "import numpy as np\n",
    "from tsfresh.feature_extraction import feature_calculators as fc\n",
    "from sklearn import preprocessing\n",
    "from sklearn import impute"
   ]
  },
  {
   "cell_type": "code",
   "execution_count": 1,
   "metadata": {},
   "outputs": [],
   "source": [
    "def datetime_feature(df, datatime_columns):\n",
    "    df.loc[:, 'year'] = df[datatime_columns].dt.year\n",
    "    df.loc[:, \"weekofyear\"] = df[datatime_columns].dt.weekofyear\n",
    "    df.loc[:, \"month\"] = df[datatime_columns].dt.month\n",
    "    df.loc[:, \"dayofweek\"] = df[datatime_columns].dt.dayofweek\n",
    "    df.loc[:, \"weekend\"] = (df.datetime_column.dt.weekday >= 5).astype(int)\n",
    "    df.loc[:, \"hour\"] = df[datetime_columns].dt.hour"
   ]
  },
  {
   "cell_type": "code",
   "execution_count": 4,
   "metadata": {},
   "outputs": [],
   "source": [
    "s = pd.date_range(\"2020-01-06\", \"2020-01-10\", freq=\"10H\").to_series()\n",
    "\n",
    "\n",
    "features = {\n",
    "    \"dayofweek\": s.dt.dayofweek.values,\n",
    "    \"dayofyear\": s.dt.dayofyear.values,\n",
    "    \"hour\": s.dt.hour.values,\n",
    "    \"is_leap_year\": s.dt.is_leap_year.values,\n",
    "    \"quarter\": s.dt.quarter.values,\n",
    "    \"weekofyear\": s.dt.weekofyear.values\n",
    "}"
   ]
  },
  {
   "cell_type": "code",
   "execution_count": 7,
   "metadata": {},
   "outputs": [],
   "source": [
    "def generate_features(df):\n",
    "    df.loc[:,\"year\"] = df[\"date\"].dt.year\n",
    "    df.loc[:, \"weekofyear\"] = df[\"date\"].dt.weekofyear\n",
    "    df.loc[:, \"month\"] = df[\"date\"].dt.month\n",
    "    df.loc[:, \"dayofweek\"] = df[\"date\"].dt.dayofweek\n",
    "    df.loc[:, \"weekend\"] = (df[\"date\"].df.weekday >= 5).astype(int)\n",
    "    \n",
    "    \n",
    "    agg = {}\n",
    "    \n",
    "    aggs[\"month\"] = [\"nunique\", \"mean\"]\n",
    "    aggs[\"weekofyewar\"] = [\"nunique\", \"mean\"]\n",
    "    aggs[\"num1\"] = [\"sum\", \"max\", \"min\", \"mean\"]\n",
    "    aggs[\"customer_id\"] = [\"size\"]\n",
    "    aggs[\"customer_id\"] = [\"nunique\"]\n",
    "    \n",
    "    \n",
    "    agg_df = df.groupby(\"customer_id\").agg(aggs)\n",
    "    agg_df = agg_df.reset_index()\n",
    "    return agg_df"
   ]
  },
  {
   "cell_type": "code",
   "execution_count": 13,
   "metadata": {},
   "outputs": [],
   "source": [
    "def generate_dataframe(x):\n",
    "    feature_dict = {}\n",
    "     \n",
    "    feature_dict[\"mean\"] = np.mean(x)\n",
    "    feature_dict[\"max\"] = np.max(x)\n",
    "    feature_dict[\"min\"] = np.min(x)\n",
    "    feature_dict[\"std\"] = np.std(x)\n",
    "    feature_dict[\"var\"] = np.var(x)\n",
    "    feature_dict[\"ptp\"] = np.ptp(x)\n",
    "    \n",
    "    \n",
    "    feature_dict[\"percentile_10\"] = np.percentile(x, 10)\n",
    "    feature_dict[\"percentile_60\"] = np.percentile(x, 60)\n",
    "    feeture_dict[\"percentile_90\"] = np.percentile(x, 90)\n",
    "    \n",
    "    \n",
    "    feature_dict[\"quantile_5\"] = np.quantile(x, 0.05)\n",
    "    feature_dict[\"quantile_95\"] = np.quantile(x, 0.95)\n",
    "    feature_dict[\"quantile_99\"] = np.quantile(x, 0.99)\n",
    "    \n",
    "    feature_dict[\"abs_energy\"] = fc.abs_energy(x)\n",
    "    feature_dict[\"count_above_mean\"] = fc.count_above_mean(x)\n",
    "    feature_dict[\"count_below_mean\"] = fc.count_below_mean(x)\n",
    "    feature_dict[\"mean_abs_change\"] = fc.mean_abs_change(x)\n",
    "    feature_dict[\"mean_change\"] = fc.mean_change(x)"
   ]
  },
  {
   "cell_type": "code",
   "execution_count": 14,
   "metadata": {},
   "outputs": [],
   "source": [
    "df = pd.DataFrame(\n",
    "    np.random.rand(100, 2),\n",
    "    columns = [f\"f_{i}\" for i in range(1, 3)]\n",
    ")"
   ]
  },
  {
   "cell_type": "code",
   "execution_count": 16,
   "metadata": {},
   "outputs": [
    {
     "data": {
      "text/html": [
       "<div>\n",
       "<style scoped>\n",
       "    .dataframe tbody tr th:only-of-type {\n",
       "        vertical-align: middle;\n",
       "    }\n",
       "\n",
       "    .dataframe tbody tr th {\n",
       "        vertical-align: top;\n",
       "    }\n",
       "\n",
       "    .dataframe thead th {\n",
       "        text-align: right;\n",
       "    }\n",
       "</style>\n",
       "<table border=\"1\" class=\"dataframe\">\n",
       "  <thead>\n",
       "    <tr style=\"text-align: right;\">\n",
       "      <th></th>\n",
       "      <th>f_1</th>\n",
       "      <th>f_2</th>\n",
       "    </tr>\n",
       "  </thead>\n",
       "  <tbody>\n",
       "    <tr>\n",
       "      <th>0</th>\n",
       "      <td>0.048764</td>\n",
       "      <td>0.987769</td>\n",
       "    </tr>\n",
       "    <tr>\n",
       "      <th>1</th>\n",
       "      <td>0.341648</td>\n",
       "      <td>0.332173</td>\n",
       "    </tr>\n",
       "    <tr>\n",
       "      <th>2</th>\n",
       "      <td>0.945558</td>\n",
       "      <td>0.351221</td>\n",
       "    </tr>\n",
       "    <tr>\n",
       "      <th>3</th>\n",
       "      <td>0.076532</td>\n",
       "      <td>0.820681</td>\n",
       "    </tr>\n",
       "    <tr>\n",
       "      <th>4</th>\n",
       "      <td>0.479469</td>\n",
       "      <td>0.863153</td>\n",
       "    </tr>\n",
       "  </tbody>\n",
       "</table>\n",
       "</div>"
      ],
      "text/plain": [
       "        f_1       f_2\n",
       "0  0.048764  0.987769\n",
       "1  0.341648  0.332173\n",
       "2  0.945558  0.351221\n",
       "3  0.076532  0.820681\n",
       "4  0.479469  0.863153"
      ]
     },
     "execution_count": 16,
     "metadata": {},
     "output_type": "execute_result"
    }
   ],
   "source": [
    "df.head()"
   ]
  },
  {
   "cell_type": "code",
   "execution_count": 19,
   "metadata": {},
   "outputs": [],
   "source": [
    "pf = preprocessing.PolynomialFeatures(\n",
    "    degree=2,\n",
    "    interaction_only = False,\n",
    "    include_bias = False\n",
    ")"
   ]
  },
  {
   "cell_type": "code",
   "execution_count": 21,
   "metadata": {},
   "outputs": [],
   "source": [
    "pf.fit(df)\n",
    "poly_feats = pf.transform(df)\n",
    "\n",
    "\n",
    "num_feats = poly_feats.shape[1]\n",
    "df_transformed = pd.DataFrame(\n",
    "    poly_feats,\n",
    "    columns = [f\"f_{i}\" for i in range(1, num_feats + 1)]\n",
    ")"
   ]
  },
  {
   "cell_type": "code",
   "execution_count": 27,
   "metadata": {},
   "outputs": [
    {
     "data": {
      "text/html": [
       "<div>\n",
       "<style scoped>\n",
       "    .dataframe tbody tr th:only-of-type {\n",
       "        vertical-align: middle;\n",
       "    }\n",
       "\n",
       "    .dataframe tbody tr th {\n",
       "        vertical-align: top;\n",
       "    }\n",
       "\n",
       "    .dataframe thead th {\n",
       "        text-align: right;\n",
       "    }\n",
       "</style>\n",
       "<table border=\"1\" class=\"dataframe\">\n",
       "  <thead>\n",
       "    <tr style=\"text-align: right;\">\n",
       "      <th></th>\n",
       "      <th>f_1</th>\n",
       "      <th>f_2</th>\n",
       "      <th>f_3</th>\n",
       "      <th>f_4</th>\n",
       "      <th>f_5</th>\n",
       "    </tr>\n",
       "  </thead>\n",
       "  <tbody>\n",
       "    <tr>\n",
       "      <th>0</th>\n",
       "      <td>0.048764</td>\n",
       "      <td>0.987769</td>\n",
       "      <td>0.002378</td>\n",
       "      <td>0.048167</td>\n",
       "      <td>0.975687</td>\n",
       "    </tr>\n",
       "    <tr>\n",
       "      <th>1</th>\n",
       "      <td>0.341648</td>\n",
       "      <td>0.332173</td>\n",
       "      <td>0.116724</td>\n",
       "      <td>0.113486</td>\n",
       "      <td>0.110339</td>\n",
       "    </tr>\n",
       "    <tr>\n",
       "      <th>2</th>\n",
       "      <td>0.945558</td>\n",
       "      <td>0.351221</td>\n",
       "      <td>0.894079</td>\n",
       "      <td>0.332100</td>\n",
       "      <td>0.123356</td>\n",
       "    </tr>\n",
       "    <tr>\n",
       "      <th>3</th>\n",
       "      <td>0.076532</td>\n",
       "      <td>0.820681</td>\n",
       "      <td>0.005857</td>\n",
       "      <td>0.062808</td>\n",
       "      <td>0.673517</td>\n",
       "    </tr>\n",
       "    <tr>\n",
       "      <th>4</th>\n",
       "      <td>0.479469</td>\n",
       "      <td>0.863153</td>\n",
       "      <td>0.229891</td>\n",
       "      <td>0.413855</td>\n",
       "      <td>0.745033</td>\n",
       "    </tr>\n",
       "  </tbody>\n",
       "</table>\n",
       "</div>"
      ],
      "text/plain": [
       "        f_1       f_2       f_3       f_4       f_5\n",
       "0  0.048764  0.987769  0.002378  0.048167  0.975687\n",
       "1  0.341648  0.332173  0.116724  0.113486  0.110339\n",
       "2  0.945558  0.351221  0.894079  0.332100  0.123356\n",
       "3  0.076532  0.820681  0.005857  0.062808  0.673517\n",
       "4  0.479469  0.863153  0.229891  0.413855  0.745033"
      ]
     },
     "execution_count": 27,
     "metadata": {},
     "output_type": "execute_result"
    }
   ],
   "source": [
    "df_transformed.head()"
   ]
  },
  {
   "cell_type": "code",
   "execution_count": 24,
   "metadata": {},
   "outputs": [],
   "source": [
    "df[\"f_bin_10\"] = pd.cut(df[\"f_1\"], bins=10, labels=False)\n",
    "df[\"f_bin_100\"] = pd.cut(df[\"f_1\"], bins=100, labels=False)"
   ]
  },
  {
   "cell_type": "code",
   "execution_count": 25,
   "metadata": {},
   "outputs": [
    {
     "data": {
      "text/html": [
       "<div>\n",
       "<style scoped>\n",
       "    .dataframe tbody tr th:only-of-type {\n",
       "        vertical-align: middle;\n",
       "    }\n",
       "\n",
       "    .dataframe tbody tr th {\n",
       "        vertical-align: top;\n",
       "    }\n",
       "\n",
       "    .dataframe thead th {\n",
       "        text-align: right;\n",
       "    }\n",
       "</style>\n",
       "<table border=\"1\" class=\"dataframe\">\n",
       "  <thead>\n",
       "    <tr style=\"text-align: right;\">\n",
       "      <th></th>\n",
       "      <th>f_1</th>\n",
       "      <th>f_2</th>\n",
       "      <th>f_bin_10</th>\n",
       "      <th>f_bin_100</th>\n",
       "    </tr>\n",
       "  </thead>\n",
       "  <tbody>\n",
       "    <tr>\n",
       "      <th>0</th>\n",
       "      <td>0.048764</td>\n",
       "      <td>0.987769</td>\n",
       "      <td>0</td>\n",
       "      <td>4</td>\n",
       "    </tr>\n",
       "    <tr>\n",
       "      <th>1</th>\n",
       "      <td>0.341648</td>\n",
       "      <td>0.332173</td>\n",
       "      <td>3</td>\n",
       "      <td>34</td>\n",
       "    </tr>\n",
       "    <tr>\n",
       "      <th>2</th>\n",
       "      <td>0.945558</td>\n",
       "      <td>0.351221</td>\n",
       "      <td>9</td>\n",
       "      <td>95</td>\n",
       "    </tr>\n",
       "    <tr>\n",
       "      <th>3</th>\n",
       "      <td>0.076532</td>\n",
       "      <td>0.820681</td>\n",
       "      <td>0</td>\n",
       "      <td>7</td>\n",
       "    </tr>\n",
       "    <tr>\n",
       "      <th>4</th>\n",
       "      <td>0.479469</td>\n",
       "      <td>0.863153</td>\n",
       "      <td>4</td>\n",
       "      <td>48</td>\n",
       "    </tr>\n",
       "    <tr>\n",
       "      <th>...</th>\n",
       "      <td>...</td>\n",
       "      <td>...</td>\n",
       "      <td>...</td>\n",
       "      <td>...</td>\n",
       "    </tr>\n",
       "    <tr>\n",
       "      <th>95</th>\n",
       "      <td>0.215611</td>\n",
       "      <td>0.454393</td>\n",
       "      <td>2</td>\n",
       "      <td>21</td>\n",
       "    </tr>\n",
       "    <tr>\n",
       "      <th>96</th>\n",
       "      <td>0.577666</td>\n",
       "      <td>0.567087</td>\n",
       "      <td>5</td>\n",
       "      <td>57</td>\n",
       "    </tr>\n",
       "    <tr>\n",
       "      <th>97</th>\n",
       "      <td>0.034610</td>\n",
       "      <td>0.372627</td>\n",
       "      <td>0</td>\n",
       "      <td>3</td>\n",
       "    </tr>\n",
       "    <tr>\n",
       "      <th>98</th>\n",
       "      <td>0.097178</td>\n",
       "      <td>0.755363</td>\n",
       "      <td>0</td>\n",
       "      <td>9</td>\n",
       "    </tr>\n",
       "    <tr>\n",
       "      <th>99</th>\n",
       "      <td>0.098945</td>\n",
       "      <td>0.576940</td>\n",
       "      <td>0</td>\n",
       "      <td>9</td>\n",
       "    </tr>\n",
       "  </tbody>\n",
       "</table>\n",
       "<p>100 rows × 4 columns</p>\n",
       "</div>"
      ],
      "text/plain": [
       "         f_1       f_2  f_bin_10  f_bin_100\n",
       "0   0.048764  0.987769         0          4\n",
       "1   0.341648  0.332173         3         34\n",
       "2   0.945558  0.351221         9         95\n",
       "3   0.076532  0.820681         0          7\n",
       "4   0.479469  0.863153         4         48\n",
       "..       ...       ...       ...        ...\n",
       "95  0.215611  0.454393         2         21\n",
       "96  0.577666  0.567087         5         57\n",
       "97  0.034610  0.372627         0          3\n",
       "98  0.097178  0.755363         0          9\n",
       "99  0.098945  0.576940         0          9\n",
       "\n",
       "[100 rows x 4 columns]"
      ]
     },
     "execution_count": 25,
     "metadata": {},
     "output_type": "execute_result"
    }
   ],
   "source": [
    "df"
   ]
  },
  {
   "cell_type": "code",
   "execution_count": 28,
   "metadata": {},
   "outputs": [
    {
     "data": {
      "text/plain": [
       "0.0967203195962463"
      ]
     },
     "execution_count": 28,
     "metadata": {},
     "output_type": "execute_result"
    }
   ],
   "source": [
    "df_transformed.f_3.var()"
   ]
  },
  {
   "cell_type": "code",
   "execution_count": 29,
   "metadata": {},
   "outputs": [
    {
     "data": {
      "text/plain": [
       "0.04977657881847403"
      ]
     },
     "execution_count": 29,
     "metadata": {},
     "output_type": "execute_result"
    }
   ],
   "source": [
    "df_transformed.f_3.apply(lambda x: np.log(1+x)).var()"
   ]
  },
  {
   "cell_type": "code",
   "execution_count": 34,
   "metadata": {},
   "outputs": [
    {
     "data": {
      "text/plain": [
       "array([[ 7. , 12.5, 14. ,  8.5, 10. ,  7. ],\n",
       "       [12. ,  9. , 12. ,  7. ,  7.5,  2. ],\n",
       "       [12. ,  4. ,  6. , 10. , 10. ,  1. ],\n",
       "       [11. , 14. , 13. , 10. ,  5. ,  4.5],\n",
       "       [12. , 12. ,  7.5,  2. ,  2. , 13. ],\n",
       "       [11. , 11. , 14. ,  7. , 14. , 10. ],\n",
       "       [13. , 10. ,  2. ,  9. ,  5. ,  7. ],\n",
       "       [ 6. ,  2. ,  6. ,  7. , 14. ,  3. ],\n",
       "       [ 6. , 14. , 10. ,  8.5, 10. , 10. ],\n",
       "       [13. ,  2. , 10. , 10. , 11. , 10. ]])"
      ]
     },
     "execution_count": 34,
     "metadata": {},
     "output_type": "execute_result"
    }
   ],
   "source": [
    "X = np.random.randint(1, 15, (10, 6))\n",
    "X = X.astype(float)\n",
    "\n",
    "X.ravel()[np.random.choice(X.size, 10, replace=False)] = np.nan\n",
    "\n",
    "knn_imputer = impute.KNNImputer(n_neighbors=2)\n",
    "knn_imputer.fit_transform(X)"
   ]
  },
  {
   "cell_type": "code",
   "execution_count": null,
   "metadata": {},
   "outputs": [],
   "source": []
  }
 ],
 "metadata": {
  "kernelspec": {
   "display_name": "Python 3",
   "language": "python",
   "name": "python3"
  },
  "language_info": {
   "codemirror_mode": {
    "name": "ipython",
    "version": 3
   },
   "file_extension": ".py",
   "mimetype": "text/x-python",
   "name": "python",
   "nbconvert_exporter": "python",
   "pygments_lexer": "ipython3",
   "version": "3.7.6"
  }
 },
 "nbformat": 4,
 "nbformat_minor": 4
}
